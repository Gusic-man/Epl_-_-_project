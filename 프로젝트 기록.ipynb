{
 "cells": [
  {
   "cell_type": "markdown",
   "id": "bb308657",
   "metadata": {},
   "source": [
    "# 프로젝트 활동 기록 보고서"
   ]
  },
  {
   "cell_type": "markdown",
   "id": "f4b0fac3",
   "metadata": {},
   "source": [
    "## 주제\n",
    "- EPL 데이터 분석 및 시각화\n",
    "    - EPL이란 잉글랜드 프리미어 리그로 해외 축구리그에서 가장 흥행하고 잇는 리그.\n",
    "    - 본인은 축구를 굉장히 좋아하며 이번 프로젝트에 내가 좋아하는 것을 접목시키면 흥미로울 것이라 생각.\n",
    "    - 마침 파이썬에서 데이터 시각화의 중요성과 방법을 배웠고, 나도 내가 원하는 데이터를 내가 입맛대로 분석하고 싶은 욕심이 생겨 이 프로젝트를 실행."
   ]
  },
  {
   "cell_type": "markdown",
   "id": "ed887552",
   "metadata": {},
   "source": [
    "## 활동 기록"
   ]
  },
  {
   "cell_type": "markdown",
   "id": "5db1a8cd",
   "metadata": {},
   "source": [
    "### 2021/11/18~ 2021/11/20"
   ]
  },
  {
   "cell_type": "markdown",
   "id": "cb6c4176",
   "metadata": {},
   "source": [
    "- 주제 확정후 필요한 공부 학습\n",
    "- 데이터 분석을 위한 pandas 공부\n",
    "- 데이터 시각화를 위한 수업 시간에 배운 matploilib 복습 및 추가 학습"
   ]
  },
  {
   "cell_type": "markdown",
   "id": "9277ba54",
   "metadata": {},
   "source": [
    "### 2021/11/21"
   ]
  },
  {
   "cell_type": "markdown",
   "id": "220d9f39",
   "metadata": {},
   "source": [
    "- 원하는 EPL 데이터 파일을 찾지못함\n",
    "- 직접 데이터를 얻기로 결심.\n",
    "- 웹 스크래핑 기술을 배우기로 함.\n",
    "- request와 bs4(Beautifulsoup4)을 학습\n",
    "- 후드스코어 및 언더 스탯 웹 사이트 데이터 분석을 목표\n",
    "- 데이터 수집을 시도했으나 실패하여 이유를 분석\n",
    "- 후드스코어 및 언더 스탯에 있는 데이터들은 동적 웹 사이트라 bs4로는 불가능함."
   ]
  },
  {
   "cell_type": "markdown",
   "id": "310f9ef0",
   "metadata": {},
   "source": [
    "### 2021/11/22"
   ]
  },
  {
   "cell_type": "markdown",
   "id": "5edc4348",
   "metadata": {},
   "source": [
    "- 동적 웹 사이트를 스크래핑 허가 위해서는 Selenium 을 써야되는 것을 알게 됨.\n",
    "- selenium 학습\n",
    "- 데이터 방법 터득.\n",
    "- 언더스탯에서 2014년도 부터 2020년도 까지의 EPL 데이터를 습득."
   ]
  },
  {
   "cell_type": "markdown",
   "id": "efeaae14",
   "metadata": {},
   "source": [
    "### 2021/11/23\n",
    "\n",
    "- 세부주제를 뛰어난 활약을 펼치는 손흥민 선수를 대상으로 하기로 결정.\n",
    "- 손흥민 선수가 EPL로 이적을 온 2015년도 부터 2020년 데이터를 받아와 분석\n",
    "- 처음엔 골 기록으로 그래프를 그려 년도별 성장세를 시각화하여 ppt를 통해 디자인"
   ]
  },
  {
   "cell_type": "code",
   "execution_count": null,
   "id": "eae6b987",
   "metadata": {},
   "outputs": [],
   "source": []
  }
 ],
 "metadata": {
  "kernelspec": {
   "display_name": "Python 3",
   "language": "python",
   "name": "python3"
  },
  "language_info": {
   "codemirror_mode": {
    "name": "ipython",
    "version": 3
   },
   "file_extension": ".py",
   "mimetype": "text/x-python",
   "name": "python",
   "nbconvert_exporter": "python",
   "pygments_lexer": "ipython3",
   "version": "3.8.8"
  }
 },
 "nbformat": 4,
 "nbformat_minor": 5
}
