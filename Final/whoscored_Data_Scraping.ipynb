{
 "cells": [
  {
   "cell_type": "markdown",
   "id": "ec87804d",
   "metadata": {},
   "source": [
    "# 데이터 수집."
   ]
  },
  {
   "cell_type": "code",
   "execution_count": 1,
   "id": "274b5474",
   "metadata": {},
   "outputs": [],
   "source": [
    "from selenium import webdriver\n",
    "from pandas.io.html import read_html\n",
    "import time\n",
    "import pandas as pd\n",
    "import numpy as np\n",
    "import warnings\n",
    "warnings.filterwarnings(action='ignore')"
   ]
  },
  {
   "cell_type": "markdown",
   "id": "872c4bfe",
   "metadata": {},
   "source": [
    "# 1.selenium을 이용한 데이터 수집"
   ]
  },
  {
   "cell_type": "code",
   "execution_count": 2,
   "id": "8f40a35d",
   "metadata": {},
   "outputs": [],
   "source": [
    "browser=webdriver.Chrome()\n",
    "browser.maximize_window()\n",
    "sleep_time=3\n",
    "page_num=30\n",
    "# 후스코드어 홈페이지 접속.\n",
    "url=\"https://1xbet.whoscored.com/Regions/252/Tournaments/2/Seasons/8228/Stages/18685/PlayerStatistics/England-Premier-League-2020-2021\"\n",
    "browser.get(url)"
   ]
  },
  {
   "cell_type": "code",
   "execution_count": 3,
   "id": "e52858e6",
   "metadata": {},
   "outputs": [],
   "source": [
    "#df.columns 생성 (후드 스코어의 수비,공격,패스 카테고리별로 기록)\n",
    "#해보니 player가 두개 생성 되므로, 둘다 받아온 후 처리 할 예정.\n",
    "df_Passing=pd.DataFrame(columns=['Player', 'Player.1', 'Apps', 'Mins','Assists','KeyP','AvgP','PS%','Crosses','LongB','ThrB','Rating'])\n",
    "df_Defensive=pd.DataFrame(columns=['Player', 'Player.1', 'Apps', 'Mins','Tackles','Inter','Fouls','Offsides','Clear','Drb','Blocks','OwnG','Rating'])\n",
    "df_Offensive = pd.DataFrame(columns=['Player', 'Player.1', 'Apps', 'Mins', 'Goals', 'Assists', 'SpG','KeyP', 'Drb', 'Fouled', 'Off','Disp','UnsTch','Rating'])"
   ]
  },
  {
   "cell_type": "code",
   "execution_count": 4,
   "id": "552de5eb",
   "metadata": {},
   "outputs": [],
   "source": [
    "#Defensive 클릭\n",
    "time.sleep(sleep_time)\n",
    "Defensive=browser.find_element_by_xpath('//*[@id=\"stage-top-player-stats-options\"]/li[2]/a')\n",
    "Defensive.click()"
   ]
  },
  {
   "cell_type": "code",
   "execution_count": 5,
   "id": "2fe9aef7",
   "metadata": {},
   "outputs": [],
   "source": [
    "#DataFrame에 데이터 입력.\n",
    "for i in np.arange(page_num)+1:\n",
    "    time.sleep(sleep_time)\n",
    "    table= browser.find_element_by_xpath('//*[@id=\"statistics-table-defensive\"]')\n",
    "    table_html= table.get_attribute('innerHTML')\n",
    "    df2=read_html(table_html)[0]\n",
    "    df_Defensive=pd.concat([df_Defensive,df2],axis=0)\n",
    "    browser.find_element_by_link_text('next').click()"
   ]
  },
  {
   "cell_type": "code",
   "execution_count": 6,
   "id": "222d37ef",
   "metadata": {},
   "outputs": [],
   "source": [
    "#Offensive 클릭\n",
    "time.sleep(sleep_time)\n",
    "Offensive=browser.find_element_by_xpath('//*[@id=\"stage-top-player-stats-options\"]/li[3]/a')\n",
    "Offensive.click()"
   ]
  },
  {
   "cell_type": "code",
   "execution_count": 7,
   "id": "0a39ba59",
   "metadata": {},
   "outputs": [],
   "source": [
    "#DataFrame에 데이터 입력.\n",
    "for i in np.arange(page_num)+1:\n",
    "    time.sleep(sleep_time)\n",
    "    table= browser.find_element_by_xpath('//*[@id=\"statistics-table-offensive\"]')\n",
    "    table_html= table.get_attribute('innerHTML')\n",
    "    df3=read_html(table_html)[0]\n",
    "    df_Offensive=pd.concat([df_Offensive,df3],axis=0)\n",
    "    browser.find_element_by_link_text('next').click()"
   ]
  },
  {
   "cell_type": "code",
   "execution_count": 8,
   "id": "ebae4f68",
   "metadata": {},
   "outputs": [],
   "source": [
    "#Passing 클릭\n",
    "time.sleep(sleep_time)\n",
    "Passing=browser.find_element_by_xpath('//*[@id=\"stage-top-player-stats-options\"]/li[4]/a')\n",
    "Passing.click()"
   ]
  },
  {
   "cell_type": "code",
   "execution_count": 9,
   "id": "a6bb8eb7",
   "metadata": {},
   "outputs": [],
   "source": [
    "#DataFrame에 데이터 입력.\n",
    "for i in np.arange(page_num)+1:\n",
    "    time.sleep(sleep_time)\n",
    "    table= browser.find_element_by_xpath('//*[@id=\"statistics-table-passing\"]')\n",
    "    table_html= table.get_attribute('innerHTML')\n",
    "    df3=read_html(table_html)[0]\n",
    "    df_Passing=pd.concat([df_Passing,df3],axis=0)\n",
    "    browser.find_element_by_link_text('next').click()"
   ]
  },
  {
   "cell_type": "markdown",
   "id": "05eda8dc",
   "metadata": {},
   "source": [
    "# 2.데이터 전처리 과정"
   ]
  },
  {
   "cell_type": "code",
   "execution_count": 10,
   "id": "c418f3c6",
   "metadata": {},
   "outputs": [],
   "source": [
    "# 컬럼 수정 함수.\n",
    "def process(data):\n",
    "    \n",
    "    # 인덱스 수정\n",
    "    data= data.reset_index()\n",
    "    data.drop(['index','Player'],axis=1,inplace=True)\n",
    "    spl=data['Player.1'].str.split(',')\n",
    "    \n",
    "    #1.이름\n",
    "    name=[]\n",
    "    for i in range(len(spl)):\n",
    "        a = spl[i][0]\n",
    "        name.append(a)\n",
    "    data['name']=name\n",
    "    \n",
    "    #2.나이\n",
    "    age=[]\n",
    "    for i in range(len(spl)):\n",
    "        a = int(spl[i][1])\n",
    "        age.append(a)\n",
    "    data['age']=age\n",
    "    \n",
    "    #3.포지션이 2개인 선수와 1개인 선수가 존재하니 구분해서 나눈다\n",
    "    position1=[]\n",
    "    for i in range(len(spl)):\n",
    "        a = spl[i][2]\n",
    "        position1.append(a)\n",
    "    data['position1']=position1\n",
    "    position2=[]\n",
    "    for i in range(len(spl)):\n",
    "        if len(spl[i])>3:\n",
    "            a = spl[i][2]\n",
    "        else:\n",
    "            a = np.nan\n",
    "        position2.append(a)\n",
    "    data['position2']=position2\n",
    "    \n",
    "    #4.원래의 정보  삭제.\n",
    "    data.drop('Player.1',axis=1,inplace=True)\n",
    "    \n",
    "    return data"
   ]
  },
  {
   "cell_type": "code",
   "execution_count": 11,
   "id": "d8de5762",
   "metadata": {},
   "outputs": [],
   "source": [
    "Defensive=process(df_Defensive)\n",
    "Offensive=process(df_Offensive)\n",
    "Passing=process(df_Passing)"
   ]
  },
  {
   "cell_type": "code",
   "execution_count": 12,
   "id": "c2119cd1",
   "metadata": {},
   "outputs": [],
   "source": [
    "# '-' 값을 0으로 처리하기"
   ]
  },
  {
   "cell_type": "code",
   "execution_count": 13,
   "id": "f0b83fe9",
   "metadata": {
    "scrolled": true
   },
   "outputs": [],
   "source": [
    "for i in np.arange(len(Defensive.columns)):\n",
    "    Defensive.iloc[Defensive.iloc[:,i]=='-',i]=0"
   ]
  },
  {
   "cell_type": "code",
   "execution_count": 14,
   "id": "a119a1ae",
   "metadata": {},
   "outputs": [],
   "source": [
    "for i in np.arange(len(Offensive.columns)):\n",
    "    Offensive.iloc[Offensive.iloc[:,i]=='-',i]=0"
   ]
  },
  {
   "cell_type": "code",
   "execution_count": 15,
   "id": "645f3512",
   "metadata": {},
   "outputs": [],
   "source": [
    "for i in np.arange(len(Passing.columns)):\n",
    "    Passing.iloc[Passing.iloc[:,i]=='-',i]=0"
   ]
  },
  {
   "cell_type": "code",
   "execution_count": 16,
   "id": "95a58a27",
   "metadata": {},
   "outputs": [],
   "source": [
    "# 컬럼 순서 재배치."
   ]
  },
  {
   "cell_type": "code",
   "execution_count": 17,
   "id": "badb8b8c",
   "metadata": {},
   "outputs": [],
   "source": [
    "col1=Defensive.columns[-4:].to_list()\n",
    "col2=Defensive.columns[:-4].to_list()\n",
    "new_col=col1+col2\n",
    "Defensive=Defensive[new_col]"
   ]
  },
  {
   "cell_type": "code",
   "execution_count": 18,
   "id": "40bbc2c8",
   "metadata": {},
   "outputs": [],
   "source": [
    "col1=Offensive.columns[-4:].to_list()\n",
    "col2=Offensive.columns[:-4].to_list()\n",
    "new_col=col1+col2\n",
    "Offensive=Offensive[new_col]"
   ]
  },
  {
   "cell_type": "code",
   "execution_count": 19,
   "id": "171a31c4",
   "metadata": {},
   "outputs": [],
   "source": [
    "col1=Passing.columns[-4:].to_list()\n",
    "col2=Passing.columns[:-4].to_list()\n",
    "new_col=col1+col2\n",
    "Passing=Passing[new_col]"
   ]
  },
  {
   "cell_type": "markdown",
   "id": "9b0c8a67",
   "metadata": {},
   "source": [
    "# 3.csv 파일로 저장하기."
   ]
  },
  {
   "cell_type": "code",
   "execution_count": 20,
   "id": "9e4ec30e",
   "metadata": {},
   "outputs": [],
   "source": [
    "Defensive.to_csv('EPL_2020-2021_Player_Defensive_data.csv',sep=',')\n",
    "Offensive.to_csv('EPL_2020-2021_Player_Offensive_data.csv',sep=',')\n",
    "Passing.to_csv('EPL_2020-2021_Player_Passing_data.csv',sep=',')"
   ]
  },
  {
   "cell_type": "code",
   "execution_count": 22,
   "id": "d8f18d68",
   "metadata": {},
   "outputs": [],
   "source": [
    "browser.close()"
   ]
  }
 ],
 "metadata": {
  "kernelspec": {
   "display_name": "Python 3",
   "language": "python",
   "name": "python3"
  },
  "language_info": {
   "codemirror_mode": {
    "name": "ipython",
    "version": 3
   },
   "file_extension": ".py",
   "mimetype": "text/x-python",
   "name": "python",
   "nbconvert_exporter": "python",
   "pygments_lexer": "ipython3",
   "version": "3.8.8"
  }
 },
 "nbformat": 4,
 "nbformat_minor": 5
}
